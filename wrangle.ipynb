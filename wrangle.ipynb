{
 "cells": [
  {
   "cell_type": "markdown",
   "id": "067c6c6b",
   "metadata": {},
   "source": [
    "<a id=\"TableOfContents\"></a>\n",
    "# TABLE OF CONTENTS:\n",
    "<li><a href='#imports'>Imports</a></li>\n",
    "<li><a href=\"#acquiremvp\">Acquire-MVP</a></li>\n",
    "<li><a href='#preparemvp'>Prepare-MVP</a></li>\n",
    "<li><a href=\"#acquire1\">Acquire-V1</a></li>\n",
    "<li><a href='#prepare1'>Prepare-V1</a></li>\n",
    "<li><a href='#extra'>Extra</a></li>"
   ]
  },
  {
   "cell_type": "markdown",
   "id": "793b55d6",
   "metadata": {},
   "source": [
    "<a id=\"imports\"></a>\n",
    "# Imports:\n",
    "<li><a href='#TableOfContents'>Table of Contents</a></li>"
   ]
  },
  {
   "cell_type": "code",
   "execution_count": 1,
   "id": "beb5f3e4",
   "metadata": {},
   "outputs": [],
   "source": [
    "# Vectorization and tables\n",
    "import numpy as np\n",
    "import pandas as pd\n",
    "\n",
    "# Visualization\n",
    "import matplotlib.pyplot as plt\n",
    "import seaborn as sns\n",
    "\n",
    "# Stats\n",
    "from scipy import stats\n",
    "\n",
    "# .py files\n",
    "import wrangle as w"
   ]
  },
  {
   "cell_type": "markdown",
   "id": "84cd970a",
   "metadata": {},
   "source": [
    "<a id=\"acquiremvp\"></a>\n",
    "# Acquire-MVP:\n",
    "<li><a href='#TableOfContents'>Table of Contents</a></li>"
   ]
  },
  {
   "cell_type": "markdown",
   "id": "9dbe69c7",
   "metadata": {},
   "source": [
    "Acquire everything from the vanilla wine database via csv joins.\n",
    "\n",
    "- Red Vanilla Shape:\n",
    "    - Rows: 1599\n",
    "    - Columns: 13\n",
    "- White Vanilla Shape:\n",
    "    - Rows: 4898\n",
    "    - Columns: 13"
   ]
  },
  {
   "cell_type": "code",
   "execution_count": 2,
   "id": "4cdb6347",
   "metadata": {},
   "outputs": [],
   "source": [
    "# Get both red and white wine dataframes\n",
    "red = pd.read_csv('https://query.data.world/s/k6viyg23e4usmgc2joiodhf2pvcvao?dws=00000')\n",
    "white = pd.read_csv('https://query.data.world/s/d5jg7efmkn3kq7cmrvvfkx2ww7epq7?dws=00000')"
   ]
  },
  {
   "cell_type": "markdown",
   "id": "3fc72510",
   "metadata": {},
   "source": [
    "<a id=\"preparemvp\"></a>\n",
    "# Prepare-MVP:\n",
    "<li><a href='#TableOfContents'>Table of Contents</a></li>"
   ]
  },
  {
   "cell_type": "code",
   "execution_count": 3,
   "id": "93d39338",
   "metadata": {},
   "outputs": [],
   "source": [
    "# Label color of wine in respective dataframes\n",
    "white['wine_color'] = 'white'\n",
    "red['wine_color'] = 'red'"
   ]
  },
  {
   "cell_type": "code",
   "execution_count": 4,
   "id": "8edd951f",
   "metadata": {},
   "outputs": [
    {
     "data": {
      "text/plain": [
       "True"
      ]
     },
     "execution_count": 4,
     "metadata": {},
     "output_type": "execute_result"
    }
   ],
   "source": [
    "# Confirm column names are identical for proper joining\n",
    "whitelist = white.drop(columns='wine_color').columns.to_list()\n",
    "redlist = red.drop(columns='wine_color').columns.to_list()\n",
    "whitelist == redlist"
   ]
  },
  {
   "cell_type": "code",
   "execution_count": 5,
   "id": "aa563ba0",
   "metadata": {},
   "outputs": [
    {
     "data": {
      "text/plain": [
       "fixed acidity           True\n",
       "volatile acidity        True\n",
       "citric acid             True\n",
       "residual sugar          True\n",
       "chlorides               True\n",
       "free sulfur dioxide     True\n",
       "total sulfur dioxide    True\n",
       "density                 True\n",
       "pH                      True\n",
       "sulphates               True\n",
       "alcohol                 True\n",
       "quality                 True\n",
       "dtype: bool"
      ]
     },
     "execution_count": 5,
     "metadata": {},
     "output_type": "execute_result"
    }
   ],
   "source": [
    "# Confirm dtypes are identical for proper joining\n",
    "whitedtypes = white.drop(columns='wine_color').dtypes\n",
    "reddtypes = red.drop(columns='wine_color').dtypes\n",
    "whitedtypes == reddtypes"
   ]
  },
  {
   "cell_type": "code",
   "execution_count": 6,
   "id": "6083aeae",
   "metadata": {},
   "outputs": [
    {
     "data": {
      "text/html": [
       "<div>\n",
       "<style scoped>\n",
       "    .dataframe tbody tr th:only-of-type {\n",
       "        vertical-align: middle;\n",
       "    }\n",
       "\n",
       "    .dataframe tbody tr th {\n",
       "        vertical-align: top;\n",
       "    }\n",
       "\n",
       "    .dataframe thead th {\n",
       "        text-align: right;\n",
       "    }\n",
       "</style>\n",
       "<table border=\"1\" class=\"dataframe\">\n",
       "  <thead>\n",
       "    <tr style=\"text-align: right;\">\n",
       "      <th></th>\n",
       "      <th>fixed acidity</th>\n",
       "      <th>volatile acidity</th>\n",
       "      <th>citric acid</th>\n",
       "      <th>residual sugar</th>\n",
       "      <th>chlorides</th>\n",
       "      <th>free sulfur dioxide</th>\n",
       "      <th>total sulfur dioxide</th>\n",
       "      <th>density</th>\n",
       "      <th>pH</th>\n",
       "      <th>sulphates</th>\n",
       "      <th>alcohol</th>\n",
       "      <th>quality</th>\n",
       "      <th>wine_color</th>\n",
       "    </tr>\n",
       "  </thead>\n",
       "  <tbody>\n",
       "    <tr>\n",
       "      <th>222</th>\n",
       "      <td>6.8</td>\n",
       "      <td>0.61</td>\n",
       "      <td>0.04</td>\n",
       "      <td>1.5</td>\n",
       "      <td>0.057</td>\n",
       "      <td>5.0</td>\n",
       "      <td>10.0</td>\n",
       "      <td>0.99525</td>\n",
       "      <td>3.42</td>\n",
       "      <td>0.6</td>\n",
       "      <td>9.5</td>\n",
       "      <td>5</td>\n",
       "      <td>red</td>\n",
       "    </tr>\n",
       "  </tbody>\n",
       "</table>\n",
       "</div>"
      ],
      "text/plain": [
       "     fixed acidity  volatile acidity  citric acid  residual sugar  chlorides  \\\n",
       "222            6.8              0.61         0.04             1.5      0.057   \n",
       "\n",
       "     free sulfur dioxide  total sulfur dioxide  density    pH  sulphates  \\\n",
       "222                  5.0                  10.0  0.99525  3.42        0.6   \n",
       "\n",
       "     alcohol  quality wine_color  \n",
       "222      9.5        5        red  "
      ]
     },
     "execution_count": 6,
     "metadata": {},
     "output_type": "execute_result"
    }
   ],
   "source": [
    "# Get a sample of red to confirm data is identical\n",
    "red.sample()"
   ]
  },
  {
   "cell_type": "code",
   "execution_count": 7,
   "id": "cbd81d97",
   "metadata": {},
   "outputs": [
    {
     "data": {
      "text/html": [
       "<div>\n",
       "<style scoped>\n",
       "    .dataframe tbody tr th:only-of-type {\n",
       "        vertical-align: middle;\n",
       "    }\n",
       "\n",
       "    .dataframe tbody tr th {\n",
       "        vertical-align: top;\n",
       "    }\n",
       "\n",
       "    .dataframe thead th {\n",
       "        text-align: right;\n",
       "    }\n",
       "</style>\n",
       "<table border=\"1\" class=\"dataframe\">\n",
       "  <thead>\n",
       "    <tr style=\"text-align: right;\">\n",
       "      <th></th>\n",
       "      <th>fixed acidity</th>\n",
       "      <th>volatile acidity</th>\n",
       "      <th>citric acid</th>\n",
       "      <th>residual sugar</th>\n",
       "      <th>chlorides</th>\n",
       "      <th>free sulfur dioxide</th>\n",
       "      <th>total sulfur dioxide</th>\n",
       "      <th>density</th>\n",
       "      <th>pH</th>\n",
       "      <th>sulphates</th>\n",
       "      <th>alcohol</th>\n",
       "      <th>quality</th>\n",
       "      <th>wine_color</th>\n",
       "    </tr>\n",
       "  </thead>\n",
       "  <tbody>\n",
       "    <tr>\n",
       "      <th>949</th>\n",
       "      <td>7.3</td>\n",
       "      <td>0.25</td>\n",
       "      <td>0.39</td>\n",
       "      <td>6.4</td>\n",
       "      <td>0.034</td>\n",
       "      <td>8.0</td>\n",
       "      <td>84.0</td>\n",
       "      <td>0.9942</td>\n",
       "      <td>3.18</td>\n",
       "      <td>0.46</td>\n",
       "      <td>11.5</td>\n",
       "      <td>5</td>\n",
       "      <td>white</td>\n",
       "    </tr>\n",
       "  </tbody>\n",
       "</table>\n",
       "</div>"
      ],
      "text/plain": [
       "     fixed acidity  volatile acidity  citric acid  residual sugar  chlorides  \\\n",
       "949            7.3              0.25         0.39             6.4      0.034   \n",
       "\n",
       "     free sulfur dioxide  total sulfur dioxide  density    pH  sulphates  \\\n",
       "949                  8.0                  84.0   0.9942  3.18       0.46   \n",
       "\n",
       "     alcohol  quality wine_color  \n",
       "949     11.5        5      white  "
      ]
     },
     "execution_count": 7,
     "metadata": {},
     "output_type": "execute_result"
    }
   ],
   "source": [
    "# Get a sample of red to confirm data is identical\n",
    "white.sample()"
   ]
  },
  {
   "cell_type": "markdown",
   "id": "15ee8cf4",
   "metadata": {},
   "source": [
    "<div style='background-color : green'>\n",
    "<h1 style='text-align : center'><b><u><i>\n",
    "    Both red and white are identical\n",
    "</i></u></b></h1>"
   ]
  },
  {
   "cell_type": "code",
   "execution_count": 8,
   "id": "b0d2f1c7",
   "metadata": {},
   "outputs": [
    {
     "data": {
      "text/html": [
       "<div>\n",
       "<style scoped>\n",
       "    .dataframe tbody tr th:only-of-type {\n",
       "        vertical-align: middle;\n",
       "    }\n",
       "\n",
       "    .dataframe tbody tr th {\n",
       "        vertical-align: top;\n",
       "    }\n",
       "\n",
       "    .dataframe thead th {\n",
       "        text-align: right;\n",
       "    }\n",
       "</style>\n",
       "<table border=\"1\" class=\"dataframe\">\n",
       "  <thead>\n",
       "    <tr style=\"text-align: right;\">\n",
       "      <th></th>\n",
       "      <th>fixed acidity</th>\n",
       "      <th>volatile acidity</th>\n",
       "      <th>citric acid</th>\n",
       "      <th>residual sugar</th>\n",
       "      <th>chlorides</th>\n",
       "      <th>free sulfur dioxide</th>\n",
       "      <th>total sulfur dioxide</th>\n",
       "      <th>density</th>\n",
       "      <th>pH</th>\n",
       "      <th>sulphates</th>\n",
       "      <th>alcohol</th>\n",
       "      <th>quality</th>\n",
       "      <th>wine_color</th>\n",
       "    </tr>\n",
       "  </thead>\n",
       "  <tbody>\n",
       "    <tr>\n",
       "      <th>1350</th>\n",
       "      <td>8.0</td>\n",
       "      <td>0.57</td>\n",
       "      <td>0.39</td>\n",
       "      <td>3.9</td>\n",
       "      <td>0.034</td>\n",
       "      <td>22.0</td>\n",
       "      <td>122.0</td>\n",
       "      <td>0.9917</td>\n",
       "      <td>3.29</td>\n",
       "      <td>0.67</td>\n",
       "      <td>12.8</td>\n",
       "      <td>7</td>\n",
       "      <td>white</td>\n",
       "    </tr>\n",
       "  </tbody>\n",
       "</table>\n",
       "</div>"
      ],
      "text/plain": [
       "      fixed acidity  volatile acidity  citric acid  residual sugar  chlorides  \\\n",
       "1350            8.0              0.57         0.39             3.9      0.034   \n",
       "\n",
       "      free sulfur dioxide  total sulfur dioxide  density    pH  sulphates  \\\n",
       "1350                 22.0                 122.0   0.9917  3.29       0.67   \n",
       "\n",
       "      alcohol  quality wine_color  \n",
       "1350     12.8        7      white  "
      ]
     },
     "execution_count": 8,
     "metadata": {},
     "output_type": "execute_result"
    }
   ],
   "source": [
    "# Since identical, merge both by rows\n",
    "wines = pd.concat([red, white], axis=0)\n",
    "wines.sample()"
   ]
  },
  {
   "cell_type": "code",
   "execution_count": 9,
   "id": "3b522510",
   "metadata": {},
   "outputs": [
    {
     "data": {
      "text/plain": [
       "fixed acidity           0\n",
       "volatile acidity        0\n",
       "citric acid             0\n",
       "residual sugar          0\n",
       "chlorides               0\n",
       "free sulfur dioxide     0\n",
       "total sulfur dioxide    0\n",
       "density                 0\n",
       "pH                      0\n",
       "sulphates               0\n",
       "alcohol                 0\n",
       "quality                 0\n",
       "wine_color              0\n",
       "dtype: int64"
      ]
     },
     "execution_count": 9,
     "metadata": {},
     "output_type": "execute_result"
    }
   ],
   "source": [
    "# Absence of nulls\n",
    "wines.isna().sum()"
   ]
  },
  {
   "cell_type": "markdown",
   "id": "cb6e996d",
   "metadata": {},
   "source": [
    "### List o' column determinations:\n",
    "- Drop Columns:\n",
    "    - None\n",
    "- Fix columns:\n",
    "    - None\n",
    "- Create columns:\n",
    "    - None"
   ]
  },
  {
   "cell_type": "code",
   "execution_count": 12,
   "id": "00034d6a",
   "metadata": {},
   "outputs": [
    {
     "name": "stdout",
     "output_type": "stream",
     "text": [
      "train.shape:(3637, 12)\n",
      "validate.shape:(1560, 12)\n",
      "test.shape:(1300, 12)\n"
     ]
    },
    {
     "data": {
      "text/plain": [
       "((3637, 12), (1560, 12), (1300, 12))"
      ]
     },
     "execution_count": 12,
     "metadata": {},
     "output_type": "execute_result"
    }
   ],
   "source": [
    "# Test .py file\n",
    "train, validate, test = w.wrangle_wines_mvp()\n",
    "train.shape, validate.shape, test.shape"
   ]
  },
  {
   "cell_type": "code",
   "execution_count": 21,
   "id": "bdf5d13d",
   "metadata": {},
   "outputs": [
    {
     "data": {
      "text/plain": [
       "(6497, 13)"
      ]
     },
     "execution_count": 21,
     "metadata": {},
     "output_type": "execute_result"
    }
   ],
   "source": [
    "wines = pd.read_csv('wines.csv', index_col=0)\n",
    "wines.shape"
   ]
  },
  {
   "cell_type": "markdown",
   "id": "1bbf0196",
   "metadata": {},
   "source": [
    "- Prepped shape:\n",
    "    - Rows: 6497\n",
    "    - Columns: 13"
   ]
  },
  {
   "cell_type": "markdown",
   "id": "85470247",
   "metadata": {},
   "source": [
    "<a id=\"acquire1\"></a>\n",
    "# Acquire-V1:\n",
    "<li><a href='#TableOfContents'>Table of Contents</a></li>"
   ]
  },
  {
   "cell_type": "code",
   "execution_count": null,
   "id": "38a01725",
   "metadata": {},
   "outputs": [],
   "source": []
  },
  {
   "cell_type": "markdown",
   "id": "68e899d7",
   "metadata": {},
   "source": [
    "<a id=\"prepare1\"></a>\n",
    "# Prepare-V1:\n",
    "<li><a href='#TableOfContents'>Table of Contents</a></li>"
   ]
  },
  {
   "cell_type": "code",
   "execution_count": null,
   "id": "332b367e",
   "metadata": {},
   "outputs": [],
   "source": []
  },
  {
   "cell_type": "markdown",
   "id": "df3853ba",
   "metadata": {},
   "source": [
    "<a id=\"extra\"></a>\n",
    "# Extra:\n",
    "<li><a href='#TableOfContents'>Table of Contents</a></li>"
   ]
  },
  {
   "cell_type": "code",
   "execution_count": null,
   "id": "4368ea77",
   "metadata": {},
   "outputs": [],
   "source": []
  }
 ],
 "metadata": {
  "kernelspec": {
   "display_name": "Python 3 (ipykernel)",
   "language": "python",
   "name": "python3"
  },
  "language_info": {
   "codemirror_mode": {
    "name": "ipython",
    "version": 3
   },
   "file_extension": ".py",
   "mimetype": "text/x-python",
   "name": "python",
   "nbconvert_exporter": "python",
   "pygments_lexer": "ipython3",
   "version": "3.9.13"
  }
 },
 "nbformat": 4,
 "nbformat_minor": 5
}
